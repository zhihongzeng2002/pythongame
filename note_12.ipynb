{
 "cells": [
  {
   "cell_type": "code",
   "execution_count": null,
   "metadata": {},
   "outputs": [],
   "source": [
    "from __future__ import print_function\n",
    "from builtins import input"
   ]
  },
  {
   "cell_type": "code",
   "execution_count": null,
   "metadata": {},
   "outputs": [],
   "source": [
    "myname = 'Thomas'\n",
    "greeting = 'Hello' + ' '+ myname\n",
    "print(greeting)"
   ]
  },
  {
   "cell_type": "code",
   "execution_count": null,
   "metadata": {},
   "outputs": [],
   "source": [
    "x = 10\n",
    "print(type(x))\n",
    "y = 20\n",
    "z = x+y\n",
    "print(z)\n",
    "print(z==20)\n",
    "print(z==30)\n",
    "a ='10'\n",
    "b ='20'\n",
    "print(type(a))\n",
    "c = a+b\n",
    "print(c)\n",
    "d = int(a) + int(b)\n",
    "print(d)"
   ]
  },
  {
   "cell_type": "code",
   "execution_count": null,
   "metadata": {},
   "outputs": [],
   "source": [
    "print('%s does not equal %s' % (z, c))"
   ]
  },
  {
   "cell_type": "code",
   "execution_count": null,
   "metadata": {},
   "outputs": [],
   "source": [
    "movie_name = input('what movie did you watch in the holiday?\\n') # using '' or \"\" for string\n",
    "print(movie_name)\n",
    "if movie_name=='coco':\n",
    "    print('That is a great movie')\n",
    "else:\n",
    "    print('Can you tell me more about it?\\n')"
   ]
  },
  {
   "cell_type": "code",
   "execution_count": null,
   "metadata": {},
   "outputs": [],
   "source": [
    "x = input('input x')\n",
    "y = input('input y')\n",
    "print(int(x)+int(y))\n",
    "print(str(x)+str(y))"
   ]
  },
  {
   "cell_type": "code",
   "execution_count": null,
   "metadata": {},
   "outputs": [],
   "source": [
    "nums = range(10)\n",
    "for i in nums:\n",
    "    if i==5:\n",
    "        break\n",
    "    print(i)"
   ]
  },
  {
   "cell_type": "markdown",
   "metadata": {},
   "source": [
    "What elements there are in nums?\n",
    "Will every number in nums be printed? why?"
   ]
  },
  {
   "cell_type": "code",
   "execution_count": null,
   "metadata": {},
   "outputs": [],
   "source": [
    "from random import randint\n",
    "for i in range(10):\n",
    "    x = randint(0,9)\n",
    "    print(x)      "
   ]
  },
  {
   "cell_type": "markdown",
   "metadata": {},
   "source": [
    "Could the number be 0, 5, 10, and -1?"
   ]
  },
  {
   "cell_type": "code",
   "execution_count": null,
   "metadata": {},
   "outputs": [],
   "source": [
    "import time\n",
    "start = time.time()\n",
    "time.sleep(2)\n",
    "final_time = time.time()\n",
    "duration = final_time - start\n",
    "print(duration)"
   ]
  },
  {
   "cell_type": "code",
   "execution_count": null,
   "metadata": {},
   "outputs": [],
   "source": [
    "def double_func(x):\n",
    "    return x*2\n",
    "print(double_func(1))\n",
    "print(double_func(3))\n",
    "print(double_func(5))"
   ]
  },
  {
   "cell_type": "code",
   "execution_count": null,
   "metadata": {},
   "outputs": [],
   "source": [
    "b = 'This is a test'\n",
    "print(b.lower())\n",
    "print(b.upper())\n",
    "print(b.endswith('t'))\n",
    "B = b.split()\n",
    "print(B)"
   ]
  }
 ],
 "metadata": {
  "kernelspec": {
   "display_name": "Python 2",
   "language": "python",
   "name": "python2"
  },
  "language_info": {
   "codemirror_mode": {
    "name": "ipython",
    "version": 2
   },
   "file_extension": ".py",
   "mimetype": "text/x-python",
   "name": "python",
   "nbconvert_exporter": "python",
   "pygments_lexer": "ipython2",
   "version": "2.7.12"
  }
 },
 "nbformat": 4,
 "nbformat_minor": 2
}
