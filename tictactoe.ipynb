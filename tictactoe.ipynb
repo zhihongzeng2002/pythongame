{
 "cells": [
  {
   "cell_type": "code",
   "execution_count": null,
   "metadata": {},
   "outputs": [],
   "source": [
    "from __future__ import print_function\n",
    "from builtins import input\n",
    "import random\n",
    "import copy"
   ]
  },
  {
   "cell_type": "code",
   "execution_count": null,
   "metadata": {},
   "outputs": [],
   "source": [
    "def drawBoard(board):\n",
    "    print(' ' + board[1] + ' | ' + board[2] + ' | ' + board[3])"
   ]
  },
  {
   "cell_type": "code",
   "execution_count": null,
   "metadata": {},
   "outputs": [],
   "source": [
    "B = [' '] * 4\n",
    "B[1] = 'X'\n",
    "B[3] = 'O'\n",
    "drawBoard(B)\n",
    "\n",
    "def makeMove(board, letter, move):\n",
    "    board[move] = letter\n",
    "    \n",
    "makeMove(B, 'X', 2)\n",
    "drawBoard(B)"
   ]
  },
  {
   "cell_type": "code",
   "execution_count": null,
   "metadata": {},
   "outputs": [],
   "source": [
    "def whoGoesFirst():\n",
    "    # Randomly choose the player who goes first.\n",
    "    if random.randint(0, 1) == 0:\n",
    "        return 'computer'\n",
    "    else:\n",
    "        return 'player'"
   ]
  },
  {
   "cell_type": "code",
   "execution_count": null,
   "metadata": {},
   "outputs": [],
   "source": [
    "print(whoGoesFirst())\n",
    "print(whoGoesFirst())\n",
    "print(whoGoesFirst())\n",
    "print(whoGoesFirst())"
   ]
  },
  {
   "cell_type": "code",
   "execution_count": null,
   "metadata": {},
   "outputs": [],
   "source": [
    "def isWinner(bo, le):\n",
    "    return (bo[1] == le and bo[2] == le and bo[3] == le) \n",
    "\n",
    "\n",
    "drawBoard(B)\n",
    "print(isWinner(B, 'X'))\n",
    "\n",
    "B[3]='X'\n",
    "drawBoard(B)\n",
    "print(isWinner(B, 'X'))"
   ]
  },
  {
   "cell_type": "code",
   "execution_count": null,
   "metadata": {},
   "outputs": [],
   "source": [
    "# shallow copy\n",
    "a=[1,2,3]\n",
    "b=a\n",
    "print(b)\n",
    "b[0]=5\n",
    "print(b)\n",
    "print(a)"
   ]
  },
  {
   "cell_type": "code",
   "execution_count": null,
   "metadata": {},
   "outputs": [],
   "source": [
    "# deep copy\n",
    "b=copy.deepcopy(a)\n",
    "print(b)\n",
    "b[0]=9\n",
    "print(b)\n",
    "print(a)"
   ]
  },
  {
   "cell_type": "code",
   "execution_count": 1,
   "metadata": {},
   "outputs": [
    {
     "name": "stdout",
     "output_type": "stream",
     "text": [
      "(2, 2)\n",
      "(2, 4)\n"
     ]
    }
   ],
   "source": [
    "x=2 \n",
    "y=x\n",
    "print(x, y)\n",
    "y=4\n",
    "print(x, y)"
   ]
  },
  {
   "cell_type": "code",
   "execution_count": null,
   "metadata": {},
   "outputs": [],
   "source": [
    "def randomMove(B, player):\n",
    "    possibleMove = []\n",
    "    for i in range(1, len(B)):\n",
    "        if B[i] == ' ':\n",
    "            possibleMove.append(i)\n",
    "    print('possible,', possibleMove)\n",
    "    index = random.randint(1, len(possibleMove)-1)\n",
    "    B[possibleMove[index]] = player\n",
    "    print(B)\n",
    "\n",
    "moveList = [' ']*4\n",
    "randomMove(moveList, 'X')\n",
    "randomMove(moveList, 'O')"
   ]
  }
 ],
 "metadata": {
  "kernelspec": {
   "display_name": "Python 2",
   "language": "python",
   "name": "python2"
  },
  "language_info": {
   "codemirror_mode": {
    "name": "ipython",
    "version": 2
   },
   "file_extension": ".py",
   "mimetype": "text/x-python",
   "name": "python",
   "nbconvert_exporter": "python",
   "pygments_lexer": "ipython2",
   "version": "2.7.12"
  }
 },
 "nbformat": 4,
 "nbformat_minor": 2
}
