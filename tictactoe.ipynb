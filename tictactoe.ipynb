{
 "cells": [
  {
   "cell_type": "code",
   "execution_count": 2,
   "metadata": {},
   "outputs": [],
   "source": [
    "from __future__ import print_function\n",
    "from builtins import input\n",
    "import random"
   ]
  },
  {
   "cell_type": "code",
   "execution_count": 3,
   "metadata": {},
   "outputs": [],
   "source": [
    "def drawBoard(board):\n",
    "    # This function prints out the board that it was passed.\n",
    "    # \"board\" is a list of 10 strings representing the board (ignore index 0)\n",
    "    print('   |   |')\n",
    "    print(' ' + board[7] + ' | ' + board[8] + ' | ' + board[9])\n",
    "    print('   |   |')\n",
    "    print('-----------')\n",
    "    print('   |   |')\n",
    "    print(' ' + board[4] + ' | ' + board[5] + ' | ' + board[6])\n",
    "    print('   |   |')\n",
    "    print('-----------')\n",
    "    print('   |   |')\n",
    "    print(' ' + board[1] + ' | ' + board[2] + ' | ' + board[3])\n",
    "    print('   |   |')"
   ]
  },
  {
   "cell_type": "code",
   "execution_count": 4,
   "metadata": {},
   "outputs": [
    {
     "name": "stdout",
     "output_type": "stream",
     "text": [
      "   |   |\n",
      "   |   |  \n",
      "   |   |\n",
      "-----------\n",
      "   |   |\n",
      "   | O |  \n",
      "   |   |\n",
      "-----------\n",
      "   |   |\n",
      " X |   |  \n",
      "   |   |\n"
     ]
    }
   ],
   "source": [
    "B = [' '] * 10\n",
    "B[1] = 'X'\n",
    "B[5] = 'O'\n",
    "drawBoard(B)"
   ]
  },
  {
   "cell_type": "code",
   "execution_count": 8,
   "metadata": {},
   "outputs": [],
   "source": [
    "def inputPlayerLetter():\n",
    "    # Lets the player type which letter they want to be.\n",
    "    letter = ''\n",
    "    while not (letter == 'X' or letter == 'O'):\n",
    "        print('Do you want to be X or O?')\n",
    "        letter = input().upper()\n",
    "    if letter == 'X':\n",
    "        return ['X', 'O']\n",
    "    else:\n",
    "        return ['O', 'X']"
   ]
  },
  {
   "cell_type": "code",
   "execution_count": 17,
   "metadata": {},
   "outputs": [],
   "source": [
    "def whoGoesFirst():\n",
    "    # Randomly choose the player who goes first.\n",
    "    if random.randint(0, 1) == 0:\n",
    "        return 'computer'\n",
    "    else:\n",
    "        return 'player'"
   ]
  },
  {
   "cell_type": "code",
   "execution_count": 20,
   "metadata": {},
   "outputs": [
    {
     "name": "stdout",
     "output_type": "stream",
     "text": [
      "computer\n",
      "player\n",
      "computer\n",
      "computer\n"
     ]
    }
   ],
   "source": [
    "print(whoGoesFirst())\n",
    "print(whoGoesFirst())\n",
    "print(whoGoesFirst())\n",
    "print(whoGoesFirst())"
   ]
  },
  {
   "cell_type": "code",
   "execution_count": 11,
   "metadata": {},
   "outputs": [],
   "source": [
    "def playAgain():\n",
    "    # This function returns True if the player wants to play again, otherwise it returns False.\n",
    "    print('Do you want to play again? (yes or no)')\n",
    "    return input().lower().startswith('y')"
   ]
  },
  {
   "cell_type": "code",
   "execution_count": null,
   "metadata": {},
   "outputs": [],
   "source": [
    "def makeMove(board, letter, move):\n",
    "    board[move] = letter\n",
    "def isWinner(bo, le):\n",
    "    return ((bo[7] == le and bo[8] == le and bo[9] == le) or # across the top\n",
    "    (bo[4] == le and bo[5] == le and bo[6] == le) or # across the middle\n",
    "    (bo[1] == le and bo[2] == le and bo[3] == le) or # across the bottom\n",
    "    (bo[7] == le and bo[4] == le and bo[1] == le) or # down the left side\n",
    "    (bo[8] == le and bo[5] == le and bo[2] == le) or # down the middle\n",
    "    (bo[9] == le and bo[6] == le and bo[3] == le) or # down the right side\n",
    "    (bo[7] == le and bo[5] == le and bo[3] == le) or # diagonal\n",
    "    (bo[9] == le and bo[5] == le and bo[1] == le)) # diagonal"
   ]
  },
  {
   "cell_type": "code",
   "execution_count": null,
   "metadata": {},
   "outputs": [],
   "source": [
    "def getBoardCopy(board):\n",
    "    # Make a duplicate of the board list and return it the duplicate.\n",
    "    dupeBoard = []\n",
    "    for i in board:\n",
    "        dupeBoard.append(i)\n",
    "    return dupeBoard"
   ]
  },
  {
   "cell_type": "code",
   "execution_count": 16,
   "metadata": {},
   "outputs": [
    {
     "name": "stdout",
     "output_type": "stream",
     "text": [
      "[1, 2, 3]\n",
      "[5, 2, 3]\n",
      "[5, 2, 3]\n"
     ]
    }
   ],
   "source": [
    "a=[1,2,3]\n",
    "b=a\n",
    "print(b)\n",
    "b[0]=5\n",
    "print(b)\n",
    "print(a)"
   ]
  },
  {
   "cell_type": "code",
   "execution_count": 25,
   "metadata": {},
   "outputs": [],
   "source": [
    "def isSpaceFree(board, move):\n",
    "    # Return true if the passed move is free on the passed board.\n",
    "    return board[move] == ' '\n",
    "def getPlayerMove(board):\n",
    "    # Let the player type in their move.\n",
    "    move = ' '\n",
    "    while move not in '1 2 3 4 5 6 7 8 9'.split() or not isSpaceFree(board, int(move)):\n",
    "        print('What is your next move? (1-9)')\n",
    "        move = input()\n",
    "    return int(move)"
   ]
  },
  {
   "cell_type": "code",
   "execution_count": 22,
   "metadata": {},
   "outputs": [],
   "source": [
    "def chooseRandomMoveFromList(board, movesList):\n",
    "    # Returns a valid move from the passed list on the passed board.\n",
    "    # Returns None if there is no valid move.\n",
    "    possibleMoves = []\n",
    "    for i in movesList:\n",
    "        if isSpaceFree(board, i):\n",
    "            possibleMoves.append(i)\n",
    "    if len(possibleMoves) != 0:\n",
    "        return random.choice(possibleMoves)\n",
    "    else:\n",
    "        return None"
   ]
  },
  {
   "cell_type": "code",
   "execution_count": 29,
   "metadata": {},
   "outputs": [
    {
     "name": "stdout",
     "output_type": "stream",
     "text": [
      "9\n",
      "1\n",
      "3\n"
     ]
    }
   ],
   "source": [
    "B=[' '] *10\n",
    "moveList = [1, 3, 7, 9]\n",
    "print(chooseRandomMoveFromList(B, moveList))\n",
    "print(chooseRandomMoveFromList(B, moveList))\n",
    "print(chooseRandomMoveFromList(B, moveList))"
   ]
  },
  {
   "cell_type": "code",
   "execution_count": null,
   "metadata": {},
   "outputs": [],
   "source": [
    "def getComputerMove(board, computerLetter):\n",
    "    # Given a board and the computer's letter, determine where to move and return that move.\n",
    "    if computerLetter == 'X':\n",
    "        playerLetter = 'O'\n",
    "    else:\n",
    "        playerLetter = 'X'\n",
    "    # Here is our algorithm for our Tic Tac Toe AI:\n",
    "    # First, check if we can win in the next move\n",
    "    for i in range(1, 10):\n",
    "        copy = getBoardCopy(board)\n",
    "        if isSpaceFree(copy, i):\n",
    "            makeMove(copy, computerLetter, i)\n",
    "            if isWinner(copy, computerLetter):\n",
    "                return i\n",
    "    # Check if the player could win on their next move, and block them.\n",
    "    for i in range(1, 10):\n",
    "        copy = getBoardCopy(board)\n",
    "        if isSpaceFree(copy, i):\n",
    "            makeMove(copy, playerLetter, i)\n",
    "            if isWinner(copy, playerLetter):\n",
    "                return i\n",
    "    # Try to take one of the corners, if they are free.\n",
    "    move = chooseRandomMoveFromList(board, [1, 3, 7, 9])\n",
    "    if move != None:\n",
    "        return move\n",
    "    # Try to take the center, if it is free.\n",
    "    if isSpaceFree(board, 5):\n",
    "        return 5\n",
    "    # Move on one of the sides.\n",
    "    return chooseRandomMoveFromList(board, [2, 4, 6, 8])"
   ]
  },
  {
   "cell_type": "code",
   "execution_count": null,
   "metadata": {},
   "outputs": [],
   "source": [
    "def isBoardFull(board):\n",
    "    # Return True if every space on the board has been taken. Otherwise return False.\n",
    "    for i in range(1, 10):\n",
    "        if isSpaceFree(board, i):\n",
    "            return False\n",
    "    return True"
   ]
  },
  {
   "cell_type": "markdown",
   "metadata": {},
   "source": [
    "This is main function"
   ]
  },
  {
   "cell_type": "code",
   "execution_count": null,
   "metadata": {},
   "outputs": [],
   "source": [
    "print('Welcome to Tic Tac Toe!')\n",
    "while True:\n",
    "    # Reset the board\n",
    "    theBoard = [' '] * 10\n",
    "    playerLetter, computerLetter = inputPlayerLetter()\n",
    "    turn = whoGoesFirst()\n",
    "    print('The ' + turn + ' will go first.')\n",
    "    gameIsPlaying = True\n",
    "    while gameIsPlaying:\n",
    "        if turn == 'player':\n",
    "            drawBoard(theBoard)\n",
    "            move = getPlayerMove(theBoard)\n",
    "            makeMove(theBoard, playerLetter, move)\n",
    "            if isWinner(theBoard, playerLetter):\n",
    "                drawBoard(theBoard)\n",
    "                print('Hooray! You have won the game!')\n",
    "                gameIsPlaying = False\n",
    "            else:\n",
    "                if isBoardFull(theBoard):\n",
    "                    drawBoard(theBoard)\n",
    "                    print('The game is a tie!')\n",
    "                    break\n",
    "                else:\n",
    "                    turn = 'computer'\n",
    "        else:\n",
    "            move = getComputerMove(theBoard, computerLetter)\n",
    "            makeMove(theBoard, computerLetter, move)\n",
    "            if isWinner(theBoard, computerLetter):\n",
    "                drawBoard(theBoard)\n",
    "                print('The computer has beaten you! You lose.')\n",
    "                gameIsPlaying = False\n",
    "            else:\n",
    "                if isBoardFull(theBoard):\n",
    "                    drawBoard(theBoard)\n",
    "                    print('The game is a tie!')\n",
    "                    break\n",
    "                else:\n",
    "                    turn = 'player'\n",
    "    if not playAgain():\n",
    "        break"
   ]
  }
 ],
 "metadata": {
  "kernelspec": {
   "display_name": "Python 2",
   "language": "python",
   "name": "python2"
  },
  "language_info": {
   "codemirror_mode": {
    "name": "ipython",
    "version": 2
   },
   "file_extension": ".py",
   "mimetype": "text/x-python",
   "name": "python",
   "nbconvert_exporter": "python",
   "pygments_lexer": "ipython2",
   "version": "2.7.12"
  }
 },
 "nbformat": 4,
 "nbformat_minor": 2
}
