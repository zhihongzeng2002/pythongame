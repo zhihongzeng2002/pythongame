{
 "cells": [
  {
   "cell_type": "code",
   "execution_count": null,
   "metadata": {},
   "outputs": [],
   "source": [
    "import random\n",
    "\n",
    "x = [2,4,1,5,7,6]\n",
    "x.sort()\n",
    "print(x)\n",
    "random.shuffle(x)\n",
    "print(x)\n",
    "random.shuffle(x)\n",
    "print(x)\n",
    "# for string\n",
    "x = ['y', 't', 'b', 'c']\n",
    "x.sort()\n",
    "print(x)\n",
    "random.shuffle(x)\n",
    "print(x)\n",
    "x = ['bagel', 'pico', 'fermi']\n",
    "x.sort()\n",
    "print(x)"
   ]
  },
  {
   "cell_type": "code",
   "execution_count": null,
   "metadata": {},
   "outputs": [],
   "source": [
    "x = 1\n",
    "x += 2\n",
    "print(x)\n",
    "x -= 1\n",
    "print(x)\n",
    "x *= 2\n",
    "print(x)\n",
    "x /= 2\n",
    "print(x)\n",
    "\n",
    "# for string\n",
    "x = 'a'\n",
    "x += 'b'\n",
    "print(x)"
   ]
  },
  {
   "cell_type": "code",
   "execution_count": null,
   "metadata": {},
   "outputs": [],
   "source": [
    "x = ['this', 'is', 'a', 'test']\n",
    "print(x)\n",
    "sentence = ' '.join(x)\n",
    "print(sentence)\n",
    "y = sentence.split()\n",
    "print(y)"
   ]
  },
  {
   "cell_type": "code",
   "execution_count": null,
   "metadata": {},
   "outputs": [],
   "source": [
    "x = [2, 4, 6, 8]\n",
    "ans = 2 in x\n",
    "print(ans)\n",
    "ans = 1 in x\n",
    "print(ans)\n",
    "ans = 1 not in x\n",
    "print(ans)"
   ]
  },
  {
   "cell_type": "code",
   "execution_count": null,
   "metadata": {},
   "outputs": [],
   "source": []
  }
 ],
 "metadata": {
  "kernelspec": {
   "display_name": "Python 2",
   "language": "python",
   "name": "python2"
  },
  "language_info": {
   "codemirror_mode": {
    "name": "ipython",
    "version": 2
   },
   "file_extension": ".py",
   "mimetype": "text/x-python",
   "name": "python",
   "nbconvert_exporter": "python",
   "pygments_lexer": "ipython2",
   "version": "2.7.12"
  }
 },
 "nbformat": 4,
 "nbformat_minor": 2
}
