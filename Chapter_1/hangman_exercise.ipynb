{
 "cells": [
  {
   "cell_type": "code",
   "execution_count": null,
   "metadata": {},
   "outputs": [],
   "source": [
    "# list \n",
    "A = []\n",
    "A.append(1)\n",
    "A.append(2)\n",
    "A.append(3)\n",
    "print(A)\n",
    "size = len(A)\n",
    "print(size)\n",
    "print(A[0])\n",
    "print(A[1])\n",
    "print(A[size-1])\n",
    "\n",
    "A = [5,4,3,2,1]\n",
    "print(len(A))\n",
    "\n",
    "print(A[0:2])\n",
    "print(A[:2])\n",
    "print(A[2])\n",
    "print(A[3:])\n"
   ]
  },
  {
   "cell_type": "code",
   "execution_count": null,
   "metadata": {},
   "outputs": [],
   "source": [
    "B = ['a', 'b', 'c']\n",
    "print(B)\n",
    "print(len(B))\n",
    "print(B[0])\n",
    "\n",
    "for x in B:\n",
    "    print(x)\n",
    "    \n",
    "B[0] = 'd'\n",
    "print(B)"
   ]
  },
  {
   "cell_type": "code",
   "execution_count": null,
   "metadata": {},
   "outputs": [],
   "source": [
    "# string exercise\n",
    "text = 'abcde'\n",
    "print(len(text))\n",
    "print(text[0])\n",
    "print(text[1])\n",
    "size = len(text)\n",
    "print(text[size-1])\n",
    "text += 'f'\n",
    "print(text)\n",
    "print(len(text))\n",
    "\n",
    "A = text\n",
    "print(A)\n",
    "print(A[:2])\n",
    "print(A[2])\n",
    "print(A[3:])\n",
    "Y = A[:2] + A[2] + A[3:]\n",
    "print(Y)\n",
    "Y = A[:2] + 'T' + A[3:]\n",
    "print(Y)"
   ]
  },
  {
   "cell_type": "code",
   "execution_count": null,
   "metadata": {},
   "outputs": [],
   "source": [
    "# string to list\n",
    "A = 'apple orange,grape-banana'\n",
    "print(A.split())\n",
    "print(A.split(','))\n",
    "print(A.split('-'))"
   ]
  },
  {
   "cell_type": "code",
   "execution_count": null,
   "metadata": {},
   "outputs": [],
   "source": [
    "# conversion between lower case and upper case\n",
    "B = A.upper()\n",
    "print(B)\n",
    "print(B.lower())\n",
    "print(A.startswith('a'))\n",
    "print(A.startswith('b'))\n",
    "print(A.endswith('a'))"
   ]
  },
  {
   "cell_type": "code",
   "execution_count": null,
   "metadata": {},
   "outputs": [],
   "source": [
    "x=[1,2,3]\n",
    "print(x)\n",
    "x.reverse()\n",
    "print(x)"
   ]
  },
  {
   "cell_type": "code",
   "execution_count": null,
   "metadata": {},
   "outputs": [],
   "source": [
    "animals_txt = 'mouse dog cat'\n",
    "animals_list = animals_txt.split()\n",
    "print(animals_txt)\n",
    "print(animals_list)\n",
    "print(animals_txt + ' monkey')\n",
    "print(animals_list + ['monkey'])\n",
    "print(animals_list.reverse())"
   ]
  },
  {
   "cell_type": "code",
   "execution_count": null,
   "metadata": {},
   "outputs": [],
   "source": [
    "# check in \n",
    "print('dog' in animals_txt)\n",
    "print('dog' in animals_list)\n",
    "print('apple' in animals_list)"
   ]
  },
  {
   "cell_type": "code",
   "execution_count": null,
   "metadata": {},
   "outputs": [],
   "source": []
  }
 ],
 "metadata": {
  "kernelspec": {
   "display_name": "Python 2",
   "language": "python",
   "name": "python2"
  },
  "language_info": {
   "codemirror_mode": {
    "name": "ipython",
    "version": 2
   },
   "file_extension": ".py",
   "mimetype": "text/x-python",
   "name": "python",
   "nbconvert_exporter": "python",
   "pygments_lexer": "ipython2",
   "version": "2.7.12"
  }
 },
 "nbformat": 4,
 "nbformat_minor": 2
}
