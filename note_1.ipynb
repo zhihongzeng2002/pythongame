{
 "cells": [
  {
   "cell_type": "code",
   "execution_count": 17,
   "metadata": {},
   "outputs": [],
   "source": [
    "# code compatible for python 2 and python 3\n",
    "from __future__ import print_function\n",
    "from builtins import input"
   ]
  },
  {
   "cell_type": "code",
   "execution_count": 18,
   "metadata": {},
   "outputs": [
    {
     "name": "stdout",
     "output_type": "stream",
     "text": [
      "3\n",
      "5\n"
     ]
    }
   ],
   "source": [
    "# variable\n",
    "# number: integer\n",
    "a = 3\n",
    "print(a)\n",
    "\n",
    "b = 5\n",
    "print(b)"
   ]
  },
  {
   "cell_type": "code",
   "execution_count": 21,
   "metadata": {},
   "outputs": [
    {
     "name": "stdout",
     "output_type": "stream",
     "text": [
      "Amy\n",
      "Anna\n",
      "Hello Anna and Amy\n"
     ]
    }
   ],
   "source": [
    "# string\n",
    "student = 'Amy'\n",
    "print(student)\n",
    "\n",
    "student = 'Anna'\n",
    "print(student)\n",
    "\n",
    "greeting = 'Hello Anna and Amy'\n",
    "print(greeting)"
   ]
  },
  {
   "cell_type": "code",
   "execution_count": 20,
   "metadata": {},
   "outputs": [
    {
     "name": "stdout",
     "output_type": "stream",
     "text": [
      "11\n",
      "56\n",
      "8\n",
      "8\n",
      "Hello Anna\n",
      "4\n",
      "16\n",
      "4\n"
     ]
    }
   ],
   "source": [
    "# operator +\n",
    "print(5+6)\n",
    "print('5' + '6')\n",
    "\n",
    "print(a+b)\n",
    "c = a + b\n",
    "print(c)\n",
    "\n",
    "print(greeting + student)\n",
    "\n",
    "# operator -, *, /\n",
    "print(7-3)\n",
    "print(8*2)\n",
    "print(8/2)"
   ]
  },
  {
   "cell_type": "code",
   "execution_count": null,
   "metadata": {},
   "outputs": [],
   "source": [
    "# hello world program\n",
    "print('Hello World')\n",
    "print('What is your name')\n",
    "name = input()\n",
    "print('It is good to meet you, ' + name)"
   ]
  }
 ],
 "metadata": {
  "kernelspec": {
   "display_name": "Python 2",
   "language": "python",
   "name": "python2"
  },
  "language_info": {
   "codemirror_mode": {
    "name": "ipython",
    "version": 2
   },
   "file_extension": ".py",
   "mimetype": "text/x-python",
   "name": "python",
   "nbconvert_exporter": "python",
   "pygments_lexer": "ipython2",
   "version": "2.7.12"
  }
 },
 "nbformat": 4,
 "nbformat_minor": 2
}
