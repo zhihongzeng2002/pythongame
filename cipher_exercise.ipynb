{
 "cells": [
  {
   "cell_type": "markdown",
   "metadata": {},
   "source": [
    "# Cipher exercise"
   ]
  },
  {
   "cell_type": "code",
   "execution_count": null,
   "metadata": {},
   "outputs": [],
   "source": [
    "symbol = 'asdfQWER'\n",
    "size = len(symbol)\n",
    "print(size)\n",
    "\n",
    "A = [1,2,3,4,5]\n",
    "size = len(A)\n",
    "print(size)"
   ]
  },
  {
   "cell_type": "code",
   "execution_count": null,
   "metadata": {},
   "outputs": [],
   "source": [
    "for s in symbol:\n",
    "    print(s)\n",
    "\n",
    "for a in A:\n",
    "    print(a)   "
   ]
  },
  {
   "cell_type": "code",
   "execution_count": null,
   "metadata": {},
   "outputs": [],
   "source": [
    "index = symbol.find('d')\n",
    "print(index)\n",
    "index = symbol.find('x')\n",
    "print(index)\n",
    "\n",
    "index = A.index(3)\n",
    "print(index)"
   ]
  },
  {
   "cell_type": "code",
   "execution_count": null,
   "metadata": {},
   "outputs": [],
   "source": [
    "def find_index(number_list, number):\n",
    "    for i, n in enumerate(number_list):\n",
    "        if number == n:\n",
    "            return i\n",
    "    return -1\n",
    "\n",
    "A = [3,4,5,6]\n",
    "index = find_index(A, 5)\n",
    "print(index)\n",
    "index = find_index(A, 9)\n",
    "print(index)"
   ]
  },
  {
   "cell_type": "code",
   "execution_count": null,
   "metadata": {},
   "outputs": [],
   "source": []
  }
 ],
 "metadata": {
  "kernelspec": {
   "display_name": "Python 2",
   "language": "python",
   "name": "python2"
  },
  "language_info": {
   "codemirror_mode": {
    "name": "ipython",
    "version": 2
   },
   "file_extension": ".py",
   "mimetype": "text/x-python",
   "name": "python",
   "nbconvert_exporter": "python",
   "pygments_lexer": "ipython2",
   "version": "2.7.12"
  }
 },
 "nbformat": 4,
 "nbformat_minor": 2
}
