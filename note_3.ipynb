{
 "cells": [
  {
   "cell_type": "code",
   "execution_count": null,
   "metadata": {},
   "outputs": [],
   "source": [
    "# exercise"
   ]
  },
  {
   "cell_type": "code",
   "execution_count": null,
   "metadata": {},
   "outputs": [],
   "source": [
    "# boolean and comparison ==\n",
    "x = True\n",
    "print(x)        # what is the output?\n",
    "\n",
    "print(type(x))  # what is the output?\n",
    "\n",
    "print(x == True) # what is the output?\n",
    "\n",
    "print(x == False) # what is the output?\n",
    "\n",
    "a = 1\n",
    "print(a == 1)  # what is the output?\n",
    "\n",
    "a = 10\n",
    "print(a == 1)  # what is the output?\n",
    "\n",
    "print(a)  # what is the output?\n",
    "\n",
    "print(type(a))  # what is the output?\n",
    "\n",
    "b = '1'\n",
    "print(b)     # what is the output?\n",
    "\n",
    "print(type(b))   # what is the output?\n"
   ]
  },
  {
   "cell_type": "code",
   "execution_count": null,
   "metadata": {},
   "outputs": [],
   "source": [
    "# conversion\n",
    "y = str(a)\n",
    "print(y)\n",
    "\n",
    "print(type(y))\n",
    "\n",
    "t = int(b)\n",
    "print(t)\n",
    "\n",
    "print(type(t))\n",
    "\n",
    "#a + b\n",
    "\n",
    "print(a + int(b))\n",
    "\n",
    "print(str(a) + b)\n"
   ]
  },
  {
   "cell_type": "code",
   "execution_count": null,
   "metadata": {},
   "outputs": [],
   "source": [
    "# import module\n",
    "# inequlity < <= > >=\n",
    "\n",
    "import random\n",
    "a = random.randint(1,10)\n",
    "print(a < 0)\n",
    "\n",
    "print(a >= 1)\n",
    "\n",
    "print(a > 10)\n",
    "\n",
    "print(a <= 10)\n",
    "\n",
    "print(a)\n"
   ]
  },
  {
   "cell_type": "code",
   "execution_count": null,
   "metadata": {},
   "outputs": [],
   "source": [
    "# if statement\n",
    "x = 2\n",
    "if x == 2:\n",
    "    print('x is 2')\n",
    "else:\n",
    "    print('x is not 2')\n",
    "    \n",
    "x = 3\n",
    "if x == 2:\n",
    "    print('x is 2')\n",
    "else:\n",
    "    print('x is not 2')\n",
    "    \n",
    "   "
   ]
  },
  {
   "cell_type": "code",
   "execution_count": null,
   "metadata": {},
   "outputs": [],
   "source": [
    "# while statement\n",
    "x = 1\n",
    "while x <= 10:\n",
    "    print(x)\n",
    "    x = x + 1\n",
    "\n",
    "x = 1\n",
    "while x <= 10:\n",
    "    x = input()\n",
    "    \n",
    "while True:\n",
    "    x = input()\n",
    "    if int(x) == 10:\n",
    "        break\n"
   ]
  },
  {
   "cell_type": "code",
   "execution_count": null,
   "metadata": {},
   "outputs": [],
   "source": [
    "# escape characters: \\\\, \\'. \\\", \\n\n",
    "print(\"My pet doesn't like this food\")\n",
    "\n",
    "print('My pet doesn\\'t like this food')\n",
    "\n",
    "print(\"He asked: \\\"Is this a joke?\\\" \")\n",
    "\n",
    "print('Hello\\nWorld')\n",
    "\n",
    "print()\n"
   ]
  },
  {
   "cell_type": "code",
   "execution_count": null,
   "metadata": {},
   "outputs": [],
   "source": []
  }
 ],
 "metadata": {
  "kernelspec": {
   "display_name": "Python 2",
   "language": "python",
   "name": "python2"
  },
  "language_info": {
   "codemirror_mode": {
    "name": "ipython",
    "version": 2
   },
   "file_extension": ".py",
   "mimetype": "text/x-python",
   "name": "python",
   "nbconvert_exporter": "python",
   "pygments_lexer": "ipython2",
   "version": "2.7.12"
  }
 },
 "nbformat": 4,
 "nbformat_minor": 2
}
