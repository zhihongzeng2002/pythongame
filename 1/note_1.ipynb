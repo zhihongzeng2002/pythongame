{
 "cells": [
  {
   "cell_type": "code",
   "execution_count": null,
   "metadata": {},
   "outputs": [],
   "source": [
    "# Exercise: number, string, operator, input, print"
   ]
  },
  {
   "cell_type": "code",
   "execution_count": null,
   "metadata": {
    "scrolled": true
   },
   "outputs": [],
   "source": [
    "# variable and number\n",
    "a = 2\n",
    "print(a)\n",
    "print(type(a))\n",
    "\n",
    "b = 5.3\n",
    "print(b)\n",
    "print(type(b))\n",
    "\n",
    "c = a + b\n",
    "print(c)\n",
    "print(type(c))\n",
    "\n",
    "d = a * b\n",
    "print(d)\n",
    "print(type(d))\n"
   ]
  },
  {
   "cell_type": "code",
   "execution_count": null,
   "metadata": {
    "scrolled": true
   },
   "outputs": [],
   "source": [
    "# string\n",
    "student = 'Anna'\n",
    "print(student)\n",
    "print(type(student))\n",
    "\n",
    "student = 'Elsa'\n",
    "print(student)\n",
    "\n",
    "greeting = 'Hello' + ' ' + student\n",
    "print(greeting)\n",
    "\n",
    "a = 'she wants a dog as her pet'\n",
    "print(a.lower())\n",
    "print(a.upper())\n",
    "print(a.title())\n",
    "print(a.find('dog'))\n",
    "print(a.replace('dog', 'cat'))\n",
    "print(a.split(' '))"
   ]
  },
  {
   "cell_type": "code",
   "execution_count": null,
   "metadata": {
    "scrolled": true
   },
   "outputs": [],
   "source": [
    "# combination of number and string\n",
    "print(5+6)\n",
    "print(str(5) + str(6))\n",
    "print('5' + '6')\n",
    "print(int('5') + float('6'))\n",
    "print(int('5') + 100)"
   ]
  },
  {
   "cell_type": "code",
   "execution_count": null,
   "metadata": {
    "scrolled": true
   },
   "outputs": [],
   "source": [
    "# print\n",
    "print('apple', 'orange', 'banana')\n",
    "print('apple', 'orange', 'banana', sep=', ')\n",
    "print(9, 15, 2019)\n",
    "print(9, 15, 2019, sep='/', end='**')"
   ]
  },
  {
   "cell_type": "code",
   "execution_count": null,
   "metadata": {
    "scrolled": true
   },
   "outputs": [],
   "source": [
    "# hello world program\n",
    "print('Hello World')\n",
    "print('What is your name')\n",
    "name = input()\n",
    "print('It is good to meet you, ' + name)\n",
    "age = input('how old are you? ')\n",
    "age = int(age)\n",
    "print('You will be ' + str(age+1) + ' years old next year')"
   ]
  }
 ],
 "metadata": {
  "kernelspec": {
   "display_name": "Python 3",
   "language": "python",
   "name": "python3"
  },
  "language_info": {
   "codemirror_mode": {
    "name": "ipython",
    "version": 3
   },
   "file_extension": ".py",
   "mimetype": "text/x-python",
   "name": "python",
   "nbconvert_exporter": "python",
   "pygments_lexer": "ipython3",
   "version": "3.7.2"
  }
 },
 "nbformat": 4,
 "nbformat_minor": 2
}
