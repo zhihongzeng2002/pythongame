{
 "cells": [
  {
   "cell_type": "code",
   "execution_count": 1,
   "metadata": {},
   "outputs": [
    {
     "name": "stdout",
     "output_type": "stream",
     "text": [
      "7\n",
      "6\n",
      "3\n",
      "2\n",
      "3\n",
      "2\n"
     ]
    }
   ],
   "source": [
    "from __future__ import print_function\n",
    "from builtins import input\n",
    "\n",
    "import random\n",
    "print(random.randint(1, 10))\n",
    "print(random.randint(1, 10))\n",
    "print(random.randint(1, 10))\n",
    "print(random.randint(1, 10))\n",
    "\n",
    "x = random.randint(1,10)\n",
    "print(x)\n",
    "\n",
    "x = random.randint(1,10)\n",
    "print(x)"
   ]
  },
  {
   "cell_type": "code",
   "execution_count": 10,
   "metadata": {},
   "outputs": [
    {
     "data": {
      "text/plain": [
       "False"
      ]
     },
     "execution_count": 10,
     "metadata": {},
     "output_type": "execute_result"
    }
   ],
   "source": [
    "# boolean \n",
    "x = True\n",
    "y = False\n",
    "\n",
    "x == True\n",
    "y == True"
   ]
  },
  {
   "cell_type": "code",
   "execution_count": 9,
   "metadata": {},
   "outputs": [
    {
     "name": "stdout",
     "output_type": "stream",
     "text": [
      "0\n",
      "1\n",
      "2\n",
      "3\n",
      "4\n",
      "---------\n",
      "0\n",
      "1\n",
      "2\n",
      "3\n",
      "4\n",
      "5\n"
     ]
    }
   ],
   "source": [
    "# while loop\n",
    "x = 0\n",
    "while x < 5:\n",
    "    print(x)\n",
    "    x = x+1 \n",
    "\n",
    "print('---------')\n",
    "x = 0\n",
    "y = 6\n",
    "while x < y:\n",
    "    print(x)\n",
    "    x = x+1 \n"
   ]
  },
  {
   "cell_type": "code",
   "execution_count": 4,
   "metadata": {},
   "outputs": [
    {
     "name": "stdout",
     "output_type": "stream",
     "text": [
      "x is smaller than 20\n",
      "x is larger than or equals 20\n",
      "x equals 20\n"
     ]
    }
   ],
   "source": [
    "# if else statement\n",
    "x = 10 \n",
    "if x < 20:\n",
    "    print('x is smaller than 20')\n",
    "else:\n",
    "    print('x is equal or larger than 20')\n",
    "\n",
    "x = 30\n",
    "if x < 20:\n",
    "    print('x is smaller than 20')\n",
    "else:\n",
    "    print('x is larger than or equals 20')\n",
    "    \n",
    "x = 20\n",
    "if x < 20:\n",
    "    print('x is smaller than 20')\n",
    "elif x==20:\n",
    "    print('x equals 20')\n",
    "else:\n",
    "    print('x is larger than 20')\n"
   ]
  },
  {
   "cell_type": "code",
   "execution_count": 5,
   "metadata": {},
   "outputs": [
    {
     "name": "stdout",
     "output_type": "stream",
     "text": [
      "<type 'int'>\n",
      "<type 'str'>\n",
      "<type 'float'>\n",
      "<type 'int'>\n",
      "<type 'int'>\n",
      "<type 'float'>\n"
     ]
    }
   ],
   "source": [
    "# conversion between int, str, and float\n",
    "x = 10\n",
    "print(type(x))\n",
    "print(type(str(x)))\n",
    "print(type(float(x)))\n",
    "\n",
    "y = '123'\n",
    "print(type(x))\n",
    "print(type(int(x)))\n",
    "print(type(float(x)))\n"
   ]
  },
  {
   "cell_type": "code",
   "execution_count": 6,
   "metadata": {},
   "outputs": [
    {
     "name": "stdout",
     "output_type": "stream",
     "text": [
      "ab\n",
      "abcde\n"
     ]
    }
   ],
   "source": [
    "# concatenation\n",
    "x = 'a'\n",
    "y = 'b'\n",
    "z = x+y\n",
    "print(z)\n",
    "\n",
    "print(z + 'cde')"
   ]
  },
  {
   "cell_type": "code",
   "execution_count": null,
   "metadata": {},
   "outputs": [],
   "source": []
  }
 ],
 "metadata": {
  "kernelspec": {
   "display_name": "Python 2",
   "language": "python",
   "name": "python2"
  },
  "language_info": {
   "codemirror_mode": {
    "name": "ipython",
    "version": 2
   },
   "file_extension": ".py",
   "mimetype": "text/x-python",
   "name": "python",
   "nbconvert_exporter": "python",
   "pygments_lexer": "ipython2",
   "version": "2.7.12"
  }
 },
 "nbformat": 4,
 "nbformat_minor": 2
}
