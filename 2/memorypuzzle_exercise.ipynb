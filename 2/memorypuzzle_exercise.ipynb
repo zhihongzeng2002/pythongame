{
 "cells": [
  {
   "cell_type": "code",
   "execution_count": null,
   "metadata": {},
   "outputs": [],
   "source": [
    "# create a list of (shape, color) pairs\n",
    "icons = []\n",
    "colors = ('red', 'green', 'blue')\n",
    "shapes = ('donut', 'diamond', 'square')\n",
    "for shape in shapes:\n",
    "    for color in colors:\n",
    "        icons.append((color, shape))\n",
    "\n",
    "print(icons)"
   ]
  },
  {
   "cell_type": "code",
   "execution_count": null,
   "metadata": {},
   "outputs": [],
   "source": [
    "# randomize the icons\n",
    "import random\n",
    "random.shuffle(icons)\n",
    "print(icons)"
   ]
  },
  {
   "cell_type": "code",
   "execution_count": null,
   "metadata": {},
   "outputs": [],
   "source": [
    "# select the first n icons\n",
    "boxheight = 3\n",
    "boxwidth = 4\n",
    "number_icon_game = boxheight * boxwidth / 2\n",
    "print(number_icon_game)\n",
    "\n",
    "# select icons\n",
    "icons_partial = icons[:int(number_icon_game)]\n",
    "print(icons_partial)\n",
    "\n",
    "# copy icons\n",
    "icons_game = icons_partial * 2\n",
    "print(icons_game)\n",
    "\n",
    "# shuffle\n",
    "random.shuffle(icons_game)\n",
    "print(icons_game)"
   ]
  },
  {
   "cell_type": "code",
   "execution_count": null,
   "metadata": {},
   "outputs": [],
   "source": [
    "# generate board\n",
    "import copy\n",
    "icons_game_copy = copy.deepcopy(icons_game) \n",
    "\n",
    "board = []\n",
    "for x in range(boxwidth):\n",
    "    column = []\n",
    "    for y in range(boxheight):\n",
    "        column.append(icons_game_copy[0])\n",
    "        del icons_game_copy[0]\n",
    "        \n",
    "    board.append(column)\n",
    "\n",
    "print(icons_game_copy)\n",
    "import pprint\n",
    "pprint.pprint(board)"
   ]
  }
 ],
 "metadata": {
  "kernelspec": {
   "display_name": "Python 3",
   "language": "python",
   "name": "python3"
  },
  "language_info": {
   "codemirror_mode": {
    "name": "ipython",
    "version": 3
   },
   "file_extension": ".py",
   "mimetype": "text/x-python",
   "name": "python",
   "nbconvert_exporter": "python",
   "pygments_lexer": "ipython3",
   "version": "3.7.2"
  }
 },
 "nbformat": 4,
 "nbformat_minor": 2
}
