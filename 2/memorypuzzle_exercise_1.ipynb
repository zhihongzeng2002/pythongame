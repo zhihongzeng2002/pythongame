{
 "cells": [
  {
   "cell_type": "code",
   "execution_count": null,
   "metadata": {},
   "outputs": [],
   "source": [
    "# loop\n",
    "\n",
    "colors = ['red', 'green', 'blue']\n",
    "shapes = ['donut', 'square', 'diamond', 'oval']\n",
    "\n",
    "for c in colors:\n",
    "    for s in shapes:\n",
    "        print(c, s)\n",
    "\n",
    "print()\n",
    "\n",
    "for s in shapes:\n",
    "    for c in colors:\n",
    "        print(c, s)\n"
   ]
  },
  {
   "cell_type": "code",
   "execution_count": null,
   "metadata": {},
   "outputs": [],
   "source": [
    "# list of lists\n",
    "board = []\n",
    "num_column = 3\n",
    "num_row = 4\n",
    "for i in range(num_column):\n",
    "    column = []\n",
    "    \n",
    "    for j in range(num_row):\n",
    "        column.append(j)\n",
    "    \n",
    "    board.append(column)\n",
    "    \n",
    "print(board)\n",
    "    "
   ]
  },
  {
   "cell_type": "code",
   "execution_count": null,
   "metadata": {},
   "outputs": [],
   "source": [
    "# random and copy\n",
    "import random\n",
    "A = [1,2,3,4,5]\n",
    "\n",
    "random.shuffle(A)\n",
    "print(A)\n",
    "\n",
    "B = A[:3]\n",
    "print(B)\n",
    "\n",
    "C = B * 2\n",
    "print(C)\n",
    "\n",
    "random.shuffle(C)\n",
    "print(C)"
   ]
  },
  {
   "cell_type": "code",
   "execution_count": null,
   "metadata": {},
   "outputs": [],
   "source": []
  }
 ],
 "metadata": {
  "kernelspec": {
   "display_name": "Python 3",
   "language": "python",
   "name": "python3"
  },
  "language_info": {
   "codemirror_mode": {
    "name": "ipython",
    "version": 3
   },
   "file_extension": ".py",
   "mimetype": "text/x-python",
   "name": "python",
   "nbconvert_exporter": "python",
   "pygments_lexer": "ipython3",
   "version": "3.7.2"
  }
 },
 "nbformat": 4,
 "nbformat_minor": 2
}
