{
 "cells": [
  {
   "cell_type": "code",
   "execution_count": 1,
   "metadata": {},
   "outputs": [],
   "source": [
    "from __future__ import print_function\n",
    "from builtins import input\n",
    "import random\n",
    "NUM_DIGITS = 3\n",
    "MAX_GUESS = 10"
   ]
  },
  {
   "cell_type": "code",
   "execution_count": 18,
   "metadata": {},
   "outputs": [
    {
     "name": "stdout",
     "output_type": "stream",
     "text": [
      "[1, 2, 4, 5, 6, 7]\n",
      "[6, 1, 4, 5, 2, 7]\n",
      "[6, 1, 4, 7, 5, 2]\n"
     ]
    }
   ],
   "source": [
    "x = [2,4,1,5,6,7]\n",
    "x.sort()\n",
    "print(x)\n",
    "random.shuffle(x)\n",
    "print(x)\n",
    "random.shuffle(x)\n",
    "print(x)"
   ]
  },
  {
   "cell_type": "code",
   "execution_count": null,
   "metadata": {},
   "outputs": [],
   "source": [
    "def getSecretNum():\n",
    "    # Returns a string of unique random digits that is NUM_DIGITS long.\n",
    "    numbers = list(range(10))\n",
    "    random.shuffle(numbers)\n",
    "    secretNum = ''\n",
    "    for i in range(NUM_DIGITS):\n",
    "        secretNum += str(numbers[i])\n",
    "    return secretNum"
   ]
  },
  {
   "cell_type": "code",
   "execution_count": null,
   "metadata": {},
   "outputs": [],
   "source": [
    "def getClues(guess, secretNum):\n",
    "    # Returns a string with the Pico, Fermi, & Bagels clues to the user.\n",
    "    if guess == secretNum:\n",
    "        return 'You got it!'\n",
    "    clues = []\n",
    "    for i in range(len(guess)):\n",
    "        if guess[i] == secretNum[i]:\n",
    "            clues.append('Fermi')\n",
    "        elif guess[i] in secretNum:\n",
    "            clues.append('Pico')\n",
    "    if len(clues) == 0:\n",
    "        return 'Bagels'\n",
    "    clues.sort()\n",
    "    return ' '.join(clues)"
   ]
  },
  {
   "cell_type": "code",
   "execution_count": null,
   "metadata": {},
   "outputs": [],
   "source": [
    "def isOnlyDigits(num):\n",
    "    # Returns True if num is a string of only digits. Otherwise, returns False.\n",
    "    if num == '':\n",
    "        return False\n",
    "    for i in num:\n",
    "        if i not in '0 1 2 3 4 5 6 7 8 9'.split():\n",
    "            return False\n",
    "    return True"
   ]
  },
  {
   "cell_type": "code",
   "execution_count": null,
   "metadata": {},
   "outputs": [],
   "source": [
    "print('I am thinking of a %s-digit number. Try to guess what it is.' %\n",
    "  (NUM_DIGITS))\n",
    "print('The clues I give are...')\n",
    "print('When I say:    That means:')\n",
    "print(' Bagels        None of the digits is correct.')\n",
    "print(' Pico          One digit is correct but in the wrong position.')\n",
    "print(' Fermi         One digit is correct and in the right position.')\n",
    "while True:\n",
    "    secretNum = getSecretNum()\n",
    "    print('I have thought up a number. You have %s guesses to get it.' %\n",
    "      (MAX_GUESS))\n",
    "    guessesTaken = 1\n",
    "    while guessesTaken <= MAX_GUESS:\n",
    "        guess = ''\n",
    "        while len(guess) != NUM_DIGITS or not isOnlyDigits(guess):\n",
    "            print('Guess #%s: ' % (guessesTaken))\n",
    "            guess = input()\n",
    "        print(getClues(guess, secretNum))\n",
    "        guessesTaken += 1\n",
    "        if guess == secretNum:\n",
    "            break\n",
    "        if guessesTaken > MAX_GUESS:\n",
    "            print('You ran out of guesses. The answer was %s.' %\n",
    "              (secretNum))\n",
    "    print('Do you want to play again? (yes or no)')\n",
    "    if not input().lower().startswith('y'):\n",
    "        break"
   ]
  }
 ],
 "metadata": {
  "kernelspec": {
   "display_name": "Python 2",
   "language": "python",
   "name": "python2"
  },
  "language_info": {
   "codemirror_mode": {
    "name": "ipython",
    "version": 2
   },
   "file_extension": ".py",
   "mimetype": "text/x-python",
   "name": "python",
   "nbconvert_exporter": "python",
   "pygments_lexer": "ipython2",
   "version": "2.7.12"
  }
 },
 "nbformat": 4,
 "nbformat_minor": 2
}
