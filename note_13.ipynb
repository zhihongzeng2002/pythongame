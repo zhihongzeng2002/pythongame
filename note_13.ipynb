{
 "cells": [
  {
   "cell_type": "code",
   "execution_count": null,
   "metadata": {},
   "outputs": [],
   "source": [
    "from __future__ import print_function\n",
    "from builtins import input"
   ]
  },
  {
   "cell_type": "code",
   "execution_count": null,
   "metadata": {},
   "outputs": [],
   "source": [
    "A=[1,2,3]\n",
    "print(A[2])\n",
    "print(A[-1])\n",
    "print(len(A))\n",
    "print(A[:])\n",
    "A.append(4)\n",
    "print(A)"
   ]
  },
  {
   "cell_type": "code",
   "execution_count": null,
   "metadata": {},
   "outputs": [],
   "source": [
    "B=[6,7,8]\n",
    "C=A+B\n",
    "print(C)\n",
    "print(C[1:3])\n",
    "print(C[:3])"
   ]
  },
  {
   "cell_type": "code",
   "execution_count": null,
   "metadata": {},
   "outputs": [],
   "source": [
    "for x in C:\n",
    "    print(x)    "
   ]
  },
  {
   "cell_type": "code",
   "execution_count": null,
   "metadata": {},
   "outputs": [],
   "source": [
    "for i in range(len(C)):\n",
    "    print(C[i])"
   ]
  },
  {
   "cell_type": "code",
   "execution_count": null,
   "metadata": {},
   "outputs": [],
   "source": [
    "randomNum = 5\n",
    "def compare(guessNum, randomNum):\n",
    "  if guessNum < randomNum:\n",
    "    print('guessNum is smaller than randomNum')\n",
    "  elif guessNum == randomNum:\n",
    "    print('guessNum equals randomNum')\n",
    "  else:\n",
    "    print('guessNum is larger than randomNum')\n",
    "    \n",
    "guessNum = 3\n",
    "compare(guessNum, randomNum)\n",
    "guessNum = 5\n",
    "compare(guessNum, randomNum)\n",
    "guessNum = 50\n",
    "compare(guessNum, randomNum)\n",
    "compare(10, randomNum)"
   ]
  },
  {
   "cell_type": "code",
   "execution_count": null,
   "metadata": {},
   "outputs": [],
   "source": [
    "D = {'one': 1, 'two': 2}\n",
    "D['three'] = 3\n",
    "print(D)\n",
    "print(D['one'])"
   ]
  },
  {
   "cell_type": "code",
   "execution_count": null,
   "metadata": {},
   "outputs": [],
   "source": [
    "print(D.keys())\n",
    "print(D.values())\n",
    "print(len(D))\n",
    "for key, value in D.iteritems():\n",
    "    print(key, value)"
   ]
  },
  {
   "cell_type": "code",
   "execution_count": null,
   "metadata": {},
   "outputs": [],
   "source": [
    "a = 1\n",
    "a += 2\n",
    "print(a)\n",
    "print(a*3)\n",
    "print(a/3)\n",
    "s = '1'\n",
    "s += '2'\n",
    "print(s)"
   ]
  },
  {
   "cell_type": "code",
   "execution_count": null,
   "metadata": {},
   "outputs": [],
   "source": [
    "A = [1,4,5,3,2]\n",
    "A.sort()\n",
    "print(A)\n",
    "A.sort(reverse=True)\n",
    "print(A)"
   ]
  },
  {
   "cell_type": "code",
   "execution_count": null,
   "metadata": {},
   "outputs": [],
   "source": [
    "s = ['a','b','c']\n",
    "t = ' '.join(s)\n",
    "print(t)\n",
    "v=t.split()\n",
    "print(v)"
   ]
  },
  {
   "cell_type": "code",
   "execution_count": null,
   "metadata": {},
   "outputs": [],
   "source": []
  }
 ],
 "metadata": {
  "kernelspec": {
   "display_name": "Python 2",
   "language": "python",
   "name": "python2"
  },
  "language_info": {
   "codemirror_mode": {
    "name": "ipython",
    "version": 2
   },
   "file_extension": ".py",
   "mimetype": "text/x-python",
   "name": "python",
   "nbconvert_exporter": "python",
   "pygments_lexer": "ipython2",
   "version": "2.7.12"
  }
 },
 "nbformat": 4,
 "nbformat_minor": 2
}
